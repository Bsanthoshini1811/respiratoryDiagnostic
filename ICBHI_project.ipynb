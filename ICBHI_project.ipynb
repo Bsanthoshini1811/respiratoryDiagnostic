{
  "nbformat": 4,
  "nbformat_minor": 0,
  "metadata": {
    "colab": {
      "provenance": [],
      "gpuType": "T4",
      "authorship_tag": "ABX9TyMDBMWzz3Q77Akyfpv6ipBE",
      "include_colab_link": true
    },
    "kernelspec": {
      "name": "python3",
      "display_name": "Python 3"
    },
    "language_info": {
      "name": "python"
    },
    "accelerator": "GPU"
  },
  "cells": [
    {
      "cell_type": "markdown",
      "metadata": {
        "id": "view-in-github",
        "colab_type": "text"
      },
      "source": [
        "<a href=\"https://colab.research.google.com/github/sonalshreya25/respiratoryDiagnostic/blob/main/ICBHI_project.ipynb\" target=\"_parent\"><img src=\"https://colab.research.google.com/assets/colab-badge.svg\" alt=\"Open In Colab\"/></a>"
      ]
    },
    {
      "cell_type": "code",
      "execution_count": 5,
      "metadata": {
        "colab": {
          "base_uri": "https://localhost:8080/"
        },
        "id": "0xNFdW92uMOY",
        "outputId": "60ed15f9-a0dc-411d-abe4-8de7993327db"
      },
      "outputs": [
        {
          "output_type": "stream",
          "name": "stdout",
          "text": [
            "Mounted at /content/drive\n"
          ]
        }
      ],
      "source": [
        "# ✅ STEP 0: Mount Google Drive\n",
        "from google.colab import drive\n",
        "drive.mount('/content/drive')\n"
      ]
    },
    {
      "cell_type": "code",
      "source": [
        "# ✅ STEP 1: Set Paths\n",
        "import os\n",
        "import pandas as pd\n",
        "from glob import glob\n",
        "import librosa\n",
        "import numpy as np\n",
        "from tqdm import tqdm\n",
        "import matplotlib.pyplot as plt\n",
        "\n",
        "# Change this to your Google Drive path\n",
        "root_dir = \"/content/drive/MyDrive/ICBHI_final_database\"\n",
        "audio_dir = os.path.join(root_dir, \"recordings_annotations\")\n",
        "diagnosis_file = os.path.join(root_dir, \"diagnosis_data.txt\")\n",
        "train_patients_file = os.path.join(root_dir, \"train_data.txt\")\n",
        "test_patients_file = os.path.join(root_dir, \"test_data.txt\")\n",
        "train_test_file = os.path.join(root_dir, \"train_test_data.txt\")\n",
        "events_folder = os.path.join(root_dir, \"events/events\")\n"
      ],
      "metadata": {
        "id": "xmJvxazpueMX"
      },
      "execution_count": 6,
      "outputs": []
    },
    {
      "cell_type": "code",
      "source": [
        "# ✅ STEP 2: Load diagnosis and patient split data\n",
        "diagnosis_df = pd.read_csv(diagnosis_file, header=None, sep='\\t', names=['Patient_ID', 'Diagnosis'])\n",
        "diagnosis_df['Patient_ID'] = diagnosis_df['Patient_ID'].astype(str)\n",
        "\n",
        "with open(train_patients_file, 'r') as f:\n",
        "    train_patients = [line.strip() for line in f.readlines()]\n",
        "\n",
        "with open(test_patients_file, 'r') as f:\n",
        "    test_patients = [line.strip() for line in f.readlines()]\n"
      ],
      "metadata": {
        "id": "h2M_zrzdumOC"
      },
      "execution_count": 7,
      "outputs": []
    },
    {
      "cell_type": "code",
      "source": [
        "# ✅ STEP 3: Scan all audio + annotation files\n",
        "data = []\n",
        "\n",
        "for wav_file in tqdm(glob(os.path.join(audio_dir, \"*.wav\"))):\n",
        "    base_name = os.path.basename(wav_file)\n",
        "    patient_id = base_name.split('_')[0]\n",
        "    txt_file = wav_file.replace(\".wav\", \".txt\")\n",
        "\n",
        "    if not os.path.exists(txt_file):\n",
        "        continue\n",
        "\n",
        "    diagnosis = diagnosis_df.loc[diagnosis_df['Patient_ID'] == patient_id, 'Diagnosis']\n",
        "    diagnosis = diagnosis.values[0] if not diagnosis.empty else None\n",
        "\n",
        "    if patient_id in train_patients:\n",
        "        split = 'train'\n",
        "    elif patient_id in test_patients:\n",
        "        split = 'test'\n",
        "    else:\n",
        "        split = 'unknown'\n",
        "\n",
        "    data.append({\n",
        "        'Patient_ID': patient_id,\n",
        "        'File': base_name,\n",
        "        'WAV_Path': wav_file,\n",
        "        'TXT_Path': txt_file,\n",
        "        'Diagnosis': diagnosis,\n",
        "        'Split': split\n",
        "    })\n",
        "\n",
        "df = pd.DataFrame(data)\n"
      ],
      "metadata": {
        "colab": {
          "base_uri": "https://localhost:8080/"
        },
        "id": "orayHGP2upye",
        "outputId": "03b069e6-a6e9-4f0e-fcc3-46fe2051d088"
      },
      "execution_count": 8,
      "outputs": [
        {
          "output_type": "stream",
          "name": "stderr",
          "text": [
            "100%|██████████| 920/920 [00:00<00:00, 1505.13it/s]\n"
          ]
        }
      ]
    },
    {
      "cell_type": "code",
      "source": [
        "# ✅ STEP 4: Extract crackle and wheeze events from event files\n",
        "def extract_events(file_name):\n",
        "    base_name = os.path.splitext(file_name)[0]\n",
        "    events_file = os.path.join(events_folder, base_name + '_events.txt')\n",
        "    has_crackle, has_wheeze = 0, 0\n",
        "    try:\n",
        "        with open(events_file, 'r') as f:\n",
        "            for line in f:\n",
        "                if 'crackle' in line.lower():\n",
        "                    has_crackle = 1\n",
        "                if 'wheeze' in line.lower():\n",
        "                    has_wheeze = 1\n",
        "    except FileNotFoundError:\n",
        "        pass\n",
        "    return pd.Series([has_crackle, has_wheeze])\n",
        "\n",
        "df[['Crackles', 'Wheezes']] = df['File'].apply(extract_events)\n"
      ],
      "metadata": {
        "id": "qh6SX-kduufO"
      },
      "execution_count": 9,
      "outputs": []
    },
    {
      "cell_type": "code",
      "source": [
        "# ✅ STEP 5: Merge refined train/test data from shared file\n",
        "split_df = pd.read_csv(\n",
        "    train_test_file,\n",
        "    sep='\\t',\n",
        "    header=None,\n",
        "    names=['FileBase', 'Split']\n",
        ")\n",
        "split_df['File'] = split_df['FileBase'] + '.wav'\n",
        "split_df.drop(columns='FileBase', inplace=True)\n",
        "\n",
        "df = df.drop(columns=['Split'])  # Remove old one\n",
        "df = df.merge(split_df, on='File', how='left')\n",
        "df['Split'] = df['Split'].fillna('unknown')\n"
      ],
      "metadata": {
        "id": "TxAPGR83vM1j"
      },
      "execution_count": 10,
      "outputs": []
    },
    {
      "cell_type": "code",
      "source": [
        "# ✅ STEP 6: Display the final DataFrame\n",
        "print(\"✅ Final DataFrame shape:\", df.shape)\n",
        "df.head()\n"
      ],
      "metadata": {
        "colab": {
          "base_uri": "https://localhost:8080/",
          "height": 243
        },
        "id": "7Hmcn0UvvPim",
        "outputId": "c3e417e6-da51-48ae-efbd-8c2ff23a718b"
      },
      "execution_count": 11,
      "outputs": [
        {
          "output_type": "stream",
          "name": "stdout",
          "text": [
            "✅ Final DataFrame shape: (920, 8)\n"
          ]
        },
        {
          "output_type": "execute_result",
          "data": {
            "text/plain": [
              "  Patient_ID                        File  \\\n",
              "0        160  160_1b3_Tc_mc_AKGC417L.wav   \n",
              "1        160  160_1b4_Ar_mc_AKGC417L.wav   \n",
              "2        158  158_1p4_Tc_mc_AKGC417L.wav   \n",
              "3        160  160_1b3_Al_mc_AKGC417L.wav   \n",
              "4        159  159_1b1_Ll_sc_Meditron.wav   \n",
              "\n",
              "                                            WAV_Path  \\\n",
              "0  /content/drive/MyDrive/ICBHI_final_database/re...   \n",
              "1  /content/drive/MyDrive/ICBHI_final_database/re...   \n",
              "2  /content/drive/MyDrive/ICBHI_final_database/re...   \n",
              "3  /content/drive/MyDrive/ICBHI_final_database/re...   \n",
              "4  /content/drive/MyDrive/ICBHI_final_database/re...   \n",
              "\n",
              "                                            TXT_Path Diagnosis  Crackles  \\\n",
              "0  /content/drive/MyDrive/ICBHI_final_database/re...      COPD         0   \n",
              "1  /content/drive/MyDrive/ICBHI_final_database/re...      COPD         1   \n",
              "2  /content/drive/MyDrive/ICBHI_final_database/re...      COPD         0   \n",
              "3  /content/drive/MyDrive/ICBHI_final_database/re...      COPD         1   \n",
              "4  /content/drive/MyDrive/ICBHI_final_database/re...   Healthy         0   \n",
              "\n",
              "   Wheezes  Split  \n",
              "0        1   test  \n",
              "1        1   test  \n",
              "2        1  train  \n",
              "3        1   test  \n",
              "4        0  train  "
            ],
            "text/html": [
              "\n",
              "  <div id=\"df-1d2952be-8e31-4c3f-99d7-f7f36a02354b\" class=\"colab-df-container\">\n",
              "    <div>\n",
              "<style scoped>\n",
              "    .dataframe tbody tr th:only-of-type {\n",
              "        vertical-align: middle;\n",
              "    }\n",
              "\n",
              "    .dataframe tbody tr th {\n",
              "        vertical-align: top;\n",
              "    }\n",
              "\n",
              "    .dataframe thead th {\n",
              "        text-align: right;\n",
              "    }\n",
              "</style>\n",
              "<table border=\"1\" class=\"dataframe\">\n",
              "  <thead>\n",
              "    <tr style=\"text-align: right;\">\n",
              "      <th></th>\n",
              "      <th>Patient_ID</th>\n",
              "      <th>File</th>\n",
              "      <th>WAV_Path</th>\n",
              "      <th>TXT_Path</th>\n",
              "      <th>Diagnosis</th>\n",
              "      <th>Crackles</th>\n",
              "      <th>Wheezes</th>\n",
              "      <th>Split</th>\n",
              "    </tr>\n",
              "  </thead>\n",
              "  <tbody>\n",
              "    <tr>\n",
              "      <th>0</th>\n",
              "      <td>160</td>\n",
              "      <td>160_1b3_Tc_mc_AKGC417L.wav</td>\n",
              "      <td>/content/drive/MyDrive/ICBHI_final_database/re...</td>\n",
              "      <td>/content/drive/MyDrive/ICBHI_final_database/re...</td>\n",
              "      <td>COPD</td>\n",
              "      <td>0</td>\n",
              "      <td>1</td>\n",
              "      <td>test</td>\n",
              "    </tr>\n",
              "    <tr>\n",
              "      <th>1</th>\n",
              "      <td>160</td>\n",
              "      <td>160_1b4_Ar_mc_AKGC417L.wav</td>\n",
              "      <td>/content/drive/MyDrive/ICBHI_final_database/re...</td>\n",
              "      <td>/content/drive/MyDrive/ICBHI_final_database/re...</td>\n",
              "      <td>COPD</td>\n",
              "      <td>1</td>\n",
              "      <td>1</td>\n",
              "      <td>test</td>\n",
              "    </tr>\n",
              "    <tr>\n",
              "      <th>2</th>\n",
              "      <td>158</td>\n",
              "      <td>158_1p4_Tc_mc_AKGC417L.wav</td>\n",
              "      <td>/content/drive/MyDrive/ICBHI_final_database/re...</td>\n",
              "      <td>/content/drive/MyDrive/ICBHI_final_database/re...</td>\n",
              "      <td>COPD</td>\n",
              "      <td>0</td>\n",
              "      <td>1</td>\n",
              "      <td>train</td>\n",
              "    </tr>\n",
              "    <tr>\n",
              "      <th>3</th>\n",
              "      <td>160</td>\n",
              "      <td>160_1b3_Al_mc_AKGC417L.wav</td>\n",
              "      <td>/content/drive/MyDrive/ICBHI_final_database/re...</td>\n",
              "      <td>/content/drive/MyDrive/ICBHI_final_database/re...</td>\n",
              "      <td>COPD</td>\n",
              "      <td>1</td>\n",
              "      <td>1</td>\n",
              "      <td>test</td>\n",
              "    </tr>\n",
              "    <tr>\n",
              "      <th>4</th>\n",
              "      <td>159</td>\n",
              "      <td>159_1b1_Ll_sc_Meditron.wav</td>\n",
              "      <td>/content/drive/MyDrive/ICBHI_final_database/re...</td>\n",
              "      <td>/content/drive/MyDrive/ICBHI_final_database/re...</td>\n",
              "      <td>Healthy</td>\n",
              "      <td>0</td>\n",
              "      <td>0</td>\n",
              "      <td>train</td>\n",
              "    </tr>\n",
              "  </tbody>\n",
              "</table>\n",
              "</div>\n",
              "    <div class=\"colab-df-buttons\">\n",
              "\n",
              "  <div class=\"colab-df-container\">\n",
              "    <button class=\"colab-df-convert\" onclick=\"convertToInteractive('df-1d2952be-8e31-4c3f-99d7-f7f36a02354b')\"\n",
              "            title=\"Convert this dataframe to an interactive table.\"\n",
              "            style=\"display:none;\">\n",
              "\n",
              "  <svg xmlns=\"http://www.w3.org/2000/svg\" height=\"24px\" viewBox=\"0 -960 960 960\">\n",
              "    <path d=\"M120-120v-720h720v720H120Zm60-500h600v-160H180v160Zm220 220h160v-160H400v160Zm0 220h160v-160H400v160ZM180-400h160v-160H180v160Zm440 0h160v-160H620v160ZM180-180h160v-160H180v160Zm440 0h160v-160H620v160Z\"/>\n",
              "  </svg>\n",
              "    </button>\n",
              "\n",
              "  <style>\n",
              "    .colab-df-container {\n",
              "      display:flex;\n",
              "      gap: 12px;\n",
              "    }\n",
              "\n",
              "    .colab-df-convert {\n",
              "      background-color: #E8F0FE;\n",
              "      border: none;\n",
              "      border-radius: 50%;\n",
              "      cursor: pointer;\n",
              "      display: none;\n",
              "      fill: #1967D2;\n",
              "      height: 32px;\n",
              "      padding: 0 0 0 0;\n",
              "      width: 32px;\n",
              "    }\n",
              "\n",
              "    .colab-df-convert:hover {\n",
              "      background-color: #E2EBFA;\n",
              "      box-shadow: 0px 1px 2px rgba(60, 64, 67, 0.3), 0px 1px 3px 1px rgba(60, 64, 67, 0.15);\n",
              "      fill: #174EA6;\n",
              "    }\n",
              "\n",
              "    .colab-df-buttons div {\n",
              "      margin-bottom: 4px;\n",
              "    }\n",
              "\n",
              "    [theme=dark] .colab-df-convert {\n",
              "      background-color: #3B4455;\n",
              "      fill: #D2E3FC;\n",
              "    }\n",
              "\n",
              "    [theme=dark] .colab-df-convert:hover {\n",
              "      background-color: #434B5C;\n",
              "      box-shadow: 0px 1px 3px 1px rgba(0, 0, 0, 0.15);\n",
              "      filter: drop-shadow(0px 1px 2px rgba(0, 0, 0, 0.3));\n",
              "      fill: #FFFFFF;\n",
              "    }\n",
              "  </style>\n",
              "\n",
              "    <script>\n",
              "      const buttonEl =\n",
              "        document.querySelector('#df-1d2952be-8e31-4c3f-99d7-f7f36a02354b button.colab-df-convert');\n",
              "      buttonEl.style.display =\n",
              "        google.colab.kernel.accessAllowed ? 'block' : 'none';\n",
              "\n",
              "      async function convertToInteractive(key) {\n",
              "        const element = document.querySelector('#df-1d2952be-8e31-4c3f-99d7-f7f36a02354b');\n",
              "        const dataTable =\n",
              "          await google.colab.kernel.invokeFunction('convertToInteractive',\n",
              "                                                    [key], {});\n",
              "        if (!dataTable) return;\n",
              "\n",
              "        const docLinkHtml = 'Like what you see? Visit the ' +\n",
              "          '<a target=\"_blank\" href=https://colab.research.google.com/notebooks/data_table.ipynb>data table notebook</a>'\n",
              "          + ' to learn more about interactive tables.';\n",
              "        element.innerHTML = '';\n",
              "        dataTable['output_type'] = 'display_data';\n",
              "        await google.colab.output.renderOutput(dataTable, element);\n",
              "        const docLink = document.createElement('div');\n",
              "        docLink.innerHTML = docLinkHtml;\n",
              "        element.appendChild(docLink);\n",
              "      }\n",
              "    </script>\n",
              "  </div>\n",
              "\n",
              "\n",
              "<div id=\"df-81aa1bf8-03b1-4498-a23b-2cb0ae66706f\">\n",
              "  <button class=\"colab-df-quickchart\" onclick=\"quickchart('df-81aa1bf8-03b1-4498-a23b-2cb0ae66706f')\"\n",
              "            title=\"Suggest charts\"\n",
              "            style=\"display:none;\">\n",
              "\n",
              "<svg xmlns=\"http://www.w3.org/2000/svg\" height=\"24px\"viewBox=\"0 0 24 24\"\n",
              "     width=\"24px\">\n",
              "    <g>\n",
              "        <path d=\"M19 3H5c-1.1 0-2 .9-2 2v14c0 1.1.9 2 2 2h14c1.1 0 2-.9 2-2V5c0-1.1-.9-2-2-2zM9 17H7v-7h2v7zm4 0h-2V7h2v10zm4 0h-2v-4h2v4z\"/>\n",
              "    </g>\n",
              "</svg>\n",
              "  </button>\n",
              "\n",
              "<style>\n",
              "  .colab-df-quickchart {\n",
              "      --bg-color: #E8F0FE;\n",
              "      --fill-color: #1967D2;\n",
              "      --hover-bg-color: #E2EBFA;\n",
              "      --hover-fill-color: #174EA6;\n",
              "      --disabled-fill-color: #AAA;\n",
              "      --disabled-bg-color: #DDD;\n",
              "  }\n",
              "\n",
              "  [theme=dark] .colab-df-quickchart {\n",
              "      --bg-color: #3B4455;\n",
              "      --fill-color: #D2E3FC;\n",
              "      --hover-bg-color: #434B5C;\n",
              "      --hover-fill-color: #FFFFFF;\n",
              "      --disabled-bg-color: #3B4455;\n",
              "      --disabled-fill-color: #666;\n",
              "  }\n",
              "\n",
              "  .colab-df-quickchart {\n",
              "    background-color: var(--bg-color);\n",
              "    border: none;\n",
              "    border-radius: 50%;\n",
              "    cursor: pointer;\n",
              "    display: none;\n",
              "    fill: var(--fill-color);\n",
              "    height: 32px;\n",
              "    padding: 0;\n",
              "    width: 32px;\n",
              "  }\n",
              "\n",
              "  .colab-df-quickchart:hover {\n",
              "    background-color: var(--hover-bg-color);\n",
              "    box-shadow: 0 1px 2px rgba(60, 64, 67, 0.3), 0 1px 3px 1px rgba(60, 64, 67, 0.15);\n",
              "    fill: var(--button-hover-fill-color);\n",
              "  }\n",
              "\n",
              "  .colab-df-quickchart-complete:disabled,\n",
              "  .colab-df-quickchart-complete:disabled:hover {\n",
              "    background-color: var(--disabled-bg-color);\n",
              "    fill: var(--disabled-fill-color);\n",
              "    box-shadow: none;\n",
              "  }\n",
              "\n",
              "  .colab-df-spinner {\n",
              "    border: 2px solid var(--fill-color);\n",
              "    border-color: transparent;\n",
              "    border-bottom-color: var(--fill-color);\n",
              "    animation:\n",
              "      spin 1s steps(1) infinite;\n",
              "  }\n",
              "\n",
              "  @keyframes spin {\n",
              "    0% {\n",
              "      border-color: transparent;\n",
              "      border-bottom-color: var(--fill-color);\n",
              "      border-left-color: var(--fill-color);\n",
              "    }\n",
              "    20% {\n",
              "      border-color: transparent;\n",
              "      border-left-color: var(--fill-color);\n",
              "      border-top-color: var(--fill-color);\n",
              "    }\n",
              "    30% {\n",
              "      border-color: transparent;\n",
              "      border-left-color: var(--fill-color);\n",
              "      border-top-color: var(--fill-color);\n",
              "      border-right-color: var(--fill-color);\n",
              "    }\n",
              "    40% {\n",
              "      border-color: transparent;\n",
              "      border-right-color: var(--fill-color);\n",
              "      border-top-color: var(--fill-color);\n",
              "    }\n",
              "    60% {\n",
              "      border-color: transparent;\n",
              "      border-right-color: var(--fill-color);\n",
              "    }\n",
              "    80% {\n",
              "      border-color: transparent;\n",
              "      border-right-color: var(--fill-color);\n",
              "      border-bottom-color: var(--fill-color);\n",
              "    }\n",
              "    90% {\n",
              "      border-color: transparent;\n",
              "      border-bottom-color: var(--fill-color);\n",
              "    }\n",
              "  }\n",
              "</style>\n",
              "\n",
              "  <script>\n",
              "    async function quickchart(key) {\n",
              "      const quickchartButtonEl =\n",
              "        document.querySelector('#' + key + ' button');\n",
              "      quickchartButtonEl.disabled = true;  // To prevent multiple clicks.\n",
              "      quickchartButtonEl.classList.add('colab-df-spinner');\n",
              "      try {\n",
              "        const charts = await google.colab.kernel.invokeFunction(\n",
              "            'suggestCharts', [key], {});\n",
              "      } catch (error) {\n",
              "        console.error('Error during call to suggestCharts:', error);\n",
              "      }\n",
              "      quickchartButtonEl.classList.remove('colab-df-spinner');\n",
              "      quickchartButtonEl.classList.add('colab-df-quickchart-complete');\n",
              "    }\n",
              "    (() => {\n",
              "      let quickchartButtonEl =\n",
              "        document.querySelector('#df-81aa1bf8-03b1-4498-a23b-2cb0ae66706f button');\n",
              "      quickchartButtonEl.style.display =\n",
              "        google.colab.kernel.accessAllowed ? 'block' : 'none';\n",
              "    })();\n",
              "  </script>\n",
              "</div>\n",
              "\n",
              "    </div>\n",
              "  </div>\n"
            ],
            "application/vnd.google.colaboratory.intrinsic+json": {
              "type": "dataframe",
              "variable_name": "df",
              "summary": "{\n  \"name\": \"df\",\n  \"rows\": 920,\n  \"fields\": [\n    {\n      \"column\": \"Patient_ID\",\n      \"properties\": {\n        \"dtype\": \"category\",\n        \"num_unique_values\": 126,\n        \"samples\": [\n          \"103\",\n          \"177\",\n          \"151\"\n        ],\n        \"semantic_type\": \"\",\n        \"description\": \"\"\n      }\n    },\n    {\n      \"column\": \"File\",\n      \"properties\": {\n        \"dtype\": \"string\",\n        \"num_unique_values\": 920,\n        \"samples\": [\n          \"199_2b1_Ll_mc_LittC2SE.wav\",\n          \"205_2b4_Pl_mc_AKGC417L.wav\",\n          \"112_1p1_Pr_sc_Litt3200.wav\"\n        ],\n        \"semantic_type\": \"\",\n        \"description\": \"\"\n      }\n    },\n    {\n      \"column\": \"WAV_Path\",\n      \"properties\": {\n        \"dtype\": \"string\",\n        \"num_unique_values\": 920,\n        \"samples\": [\n          \"/content/drive/MyDrive/ICBHI_final_database/recordings_annotations/199_2b1_Ll_mc_LittC2SE.wav\",\n          \"/content/drive/MyDrive/ICBHI_final_database/recordings_annotations/205_2b4_Pl_mc_AKGC417L.wav\",\n          \"/content/drive/MyDrive/ICBHI_final_database/recordings_annotations/112_1p1_Pr_sc_Litt3200.wav\"\n        ],\n        \"semantic_type\": \"\",\n        \"description\": \"\"\n      }\n    },\n    {\n      \"column\": \"TXT_Path\",\n      \"properties\": {\n        \"dtype\": \"string\",\n        \"num_unique_values\": 920,\n        \"samples\": [\n          \"/content/drive/MyDrive/ICBHI_final_database/recordings_annotations/199_2b1_Ll_mc_LittC2SE.txt\",\n          \"/content/drive/MyDrive/ICBHI_final_database/recordings_annotations/205_2b4_Pl_mc_AKGC417L.txt\",\n          \"/content/drive/MyDrive/ICBHI_final_database/recordings_annotations/112_1p1_Pr_sc_Litt3200.txt\"\n        ],\n        \"semantic_type\": \"\",\n        \"description\": \"\"\n      }\n    },\n    {\n      \"column\": \"Diagnosis\",\n      \"properties\": {\n        \"dtype\": \"category\",\n        \"num_unique_values\": 8,\n        \"samples\": [\n          \"Healthy\",\n          \"Pneumonia\",\n          \"COPD\"\n        ],\n        \"semantic_type\": \"\",\n        \"description\": \"\"\n      }\n    },\n    {\n      \"column\": \"Crackles\",\n      \"properties\": {\n        \"dtype\": \"number\",\n        \"std\": 0,\n        \"min\": 0,\n        \"max\": 1,\n        \"num_unique_values\": 2,\n        \"samples\": [\n          1,\n          0\n        ],\n        \"semantic_type\": \"\",\n        \"description\": \"\"\n      }\n    },\n    {\n      \"column\": \"Wheezes\",\n      \"properties\": {\n        \"dtype\": \"number\",\n        \"std\": 0,\n        \"min\": 0,\n        \"max\": 1,\n        \"num_unique_values\": 2,\n        \"samples\": [\n          0,\n          1\n        ],\n        \"semantic_type\": \"\",\n        \"description\": \"\"\n      }\n    },\n    {\n      \"column\": \"Split\",\n      \"properties\": {\n        \"dtype\": \"category\",\n        \"num_unique_values\": 3,\n        \"samples\": [\n          \"test\",\n          \"train\"\n        ],\n        \"semantic_type\": \"\",\n        \"description\": \"\"\n      }\n    }\n  ]\n}"
            }
          },
          "metadata": {},
          "execution_count": 11
        }
      ]
    },
    {
      "cell_type": "code",
      "source": [
        "import librosa.display\n",
        "import matplotlib.pyplot as plt\n",
        "import os\n",
        "import numpy as np\n",
        "\n",
        "# Create output folder\n",
        "output_dir = os.path.join(root_dir, \"spectrograms\")\n",
        "os.makedirs(output_dir, exist_ok=True)\n",
        "\n",
        "# Spectrogram helper\n",
        "def generate_and_save_spectrogram(wav_path, file_name, duration=3, n_fft=2048, hop_length=512):\n",
        "    y, sr = librosa.load(wav_path, sr=None, duration=duration)\n",
        "\n",
        "    # STFT + dB conversion\n",
        "    S = librosa.stft(y, n_fft=n_fft, hop_length=hop_length)\n",
        "    S_db = librosa.amplitude_to_db(np.abs(S), ref=np.max)\n",
        "\n",
        "    # Normalize for training (.npy)\n",
        "    S_db_norm = (S_db - np.min(S_db)) / (np.max(S_db) - np.min(S_db))\n",
        "\n",
        "    # Save .npy\n",
        "    npy_path = os.path.join(output_dir, file_name.replace(\".wav\", \".npy\"))\n",
        "    np.save(npy_path, S_db_norm)\n",
        "\n",
        "    # Save .png\n",
        "    png_path = os.path.join(output_dir, file_name.replace(\".wav\", \".png\"))\n",
        "    plt.figure(figsize=(10, 4))\n",
        "    librosa.display.specshow(S_db, sr=sr, hop_length=hop_length, x_axis='time', y_axis='log')\n",
        "    plt.axis('off')\n",
        "    plt.tight_layout()\n",
        "    plt.savefig(png_path, bbox_inches='tight', pad_inches=0)\n",
        "    plt.close()\n",
        "\n",
        "    return npy_path, png_path\n"
      ],
      "metadata": {
        "id": "6lYa8BwLvT59"
      },
      "execution_count": 12,
      "outputs": []
    },
    {
      "cell_type": "code",
      "source": [
        "for idx, row in tqdm(df.iterrows(), total=len(df)):\n",
        "    npy_path = os.path.join(output_dir, row['File'].replace('.wav', '.npy'))\n",
        "    png_path = os.path.join(output_dir, row['File'].replace('.wav', '.png'))\n",
        "\n",
        "    # Skip if both files already exist\n",
        "    if os.path.exists(npy_path) and os.path.exists(png_path):\n",
        "        df.at[idx, 'Spectrogram_Array'] = npy_path\n",
        "        df.at[idx, 'Spectrogram_Image'] = png_path\n",
        "        continue\n",
        "\n",
        "    try:\n",
        "        npy_path, png_path = generate_and_save_spectrogram(row['WAV_Path'], row['File'])\n",
        "        df.at[idx, 'Spectrogram_Array'] = npy_path\n",
        "        df.at[idx, 'Spectrogram_Image'] = png_path\n",
        "    except Exception as e:\n",
        "        print(f\"⚠️ Failed to process {row['File']}: {e}\")\n"
      ],
      "metadata": {
        "colab": {
          "base_uri": "https://localhost:8080/"
        },
        "id": "uZuUXGQkvnaf",
        "outputId": "04539527-4230-46e4-990b-d5edbee80d20"
      },
      "execution_count": 13,
      "outputs": [
        {
          "output_type": "stream",
          "name": "stderr",
          "text": [
            "100%|██████████| 920/920 [00:06<00:00, 141.62it/s]\n"
          ]
        }
      ]
    },
    {
      "cell_type": "code",
      "source": [
        "df.to_pickle(os.path.join(root_dir, \"df_with_spectrograms.pkl\"))\n",
        "print(\"✅ Saved metadata with spectrogram paths.\")\n"
      ],
      "metadata": {
        "colab": {
          "base_uri": "https://localhost:8080/"
        },
        "id": "CAMLrazLGrtk",
        "outputId": "d1827866-e6d8-4bf0-dc2f-c0ab0eb94c64"
      },
      "execution_count": 14,
      "outputs": [
        {
          "output_type": "stream",
          "name": "stdout",
          "text": [
            "✅ Saved metadata with spectrogram paths.\n"
          ]
        }
      ]
    },
    {
      "cell_type": "code",
      "source": [
        "# ✅ Skip 'unknown' patients\n",
        "df = df[df['Split'].isin(['train', 'test'])].reset_index(drop=True)\n",
        "print(f\"✅ Total valid samples after filtering: {df.shape[0]}\")\n",
        "\n",
        "# ✅ Encode labels\n",
        "from sklearn.preprocessing import LabelEncoder\n",
        "label_encoder = LabelEncoder()\n",
        "df['EncodedLabel'] = label_encoder.fit_transform(df['Diagnosis'].astype(str))\n",
        "\n",
        "# 🔍 Show label mapping\n",
        "print(\"🔠 Encoded Classes:\", list(label_encoder.classes_))\n",
        "num_classes = len(label_encoder.classes_)\n",
        "\n",
        "# ✅ Visualize label distribution\n",
        "import seaborn as sns\n",
        "import matplotlib.pyplot as plt\n",
        "\n",
        "plt.figure(figsize=(10, 4))\n",
        "sns.countplot(x='EncodedLabel', hue='Split', data=df)\n",
        "plt.title(\"🔍 Diagnosis Label Distribution Across Train/Test Splits\")\n",
        "plt.xlabel(\"Encoded Diagnosis\")\n",
        "plt.ylabel(\"Sample Count\")\n",
        "plt.legend(title='Split')\n",
        "plt.grid(True)\n",
        "plt.tight_layout()\n",
        "plt.show()\n"
      ],
      "metadata": {
        "colab": {
          "base_uri": "https://localhost:8080/",
          "height": 531
        },
        "id": "NV4MFtO8IinB",
        "outputId": "a436d857-88e4-4cc5-e668-b6a59b7a1b2e"
      },
      "execution_count": 15,
      "outputs": [
        {
          "output_type": "stream",
          "name": "stdout",
          "text": [
            "✅ Total valid samples after filtering: 919\n",
            "🔠 Encoded Classes: ['Asthma', 'Bronchiectasis', 'Bronchiolitis', 'COPD', 'Healthy', 'LRTI', 'Pneumonia', 'URTI']\n"
          ]
        },
        {
          "output_type": "stream",
          "name": "stderr",
          "text": [
            "<ipython-input-15-5c573f278746>:25: UserWarning: Glyph 128269 (\\N{LEFT-POINTING MAGNIFYING GLASS}) missing from font(s) DejaVu Sans.\n",
            "  plt.tight_layout()\n",
            "/usr/local/lib/python3.11/dist-packages/IPython/core/pylabtools.py:151: UserWarning: Glyph 128269 (\\N{LEFT-POINTING MAGNIFYING GLASS}) missing from font(s) DejaVu Sans.\n",
            "  fig.canvas.print_figure(bytes_io, **kw)\n"
          ]
        },
        {
          "output_type": "display_data",
          "data": {
            "text/plain": [
              "<Figure size 1000x400 with 1 Axes>"
            ],
            "image/png": "[encoded data removed]"
          },
          "metadata": {}
        }
      ]
    },
    {
      "cell_type": "code",
      "source": [
        "# ✅ Split into train/test DataFrames\n",
        "train_df = df[df['Split'] == 'train'].reset_index(drop=True)\n",
        "test_df = df[df['Split'] == 'test'].reset_index(drop=True)\n",
        "\n",
        "# ✅ Save to .pkl for reproducibility\n",
        "train_split_path = os.path.join(root_dir, \"train_split.pkl\")\n",
        "test_split_path = os.path.join(root_dir, \"test_split.pkl\")\n",
        "\n",
        "train_df.to_pickle(train_split_path)\n",
        "test_df.to_pickle(test_split_path)\n",
        "\n",
        "print(f\"📁 Train split saved to: {train_split_path}\")\n",
        "print(f\"📁 Test split saved to: {test_split_path}\")\n"
      ],
      "metadata": {
        "colab": {
          "base_uri": "https://localhost:8080/"
        },
        "id": "DWtw6hAgIqI4",
        "outputId": "39f1437b-9492-4884-e2af-aa99819bf83a"
      },
      "execution_count": 16,
      "outputs": [
        {
          "output_type": "stream",
          "name": "stdout",
          "text": [
            "📁 Train split saved to: /content/drive/MyDrive/ICBHI_final_database/train_split.pkl\n",
            "📁 Test split saved to: /content/drive/MyDrive/ICBHI_final_database/test_split.pkl\n"
          ]
        }
      ]
    },
    {
      "cell_type": "code",
      "source": [
        "# 🔄 Reload split data\n",
        "train_df = pd.read_pickle(train_split_path)\n",
        "test_df = pd.read_pickle(test_split_path)\n",
        "\n",
        "print(f\"🧪 Reloaded: Train shape {train_df.shape}, Test shape {test_df.shape}\")\n"
      ],
      "metadata": {
        "colab": {
          "base_uri": "https://localhost:8080/"
        },
        "id": "se6-KU3dJ3T0",
        "outputId": "49021dd9-ca8e-4aef-e01f-186b6c3ce5da"
      },
      "execution_count": 17,
      "outputs": [
        {
          "output_type": "stream",
          "name": "stdout",
          "text": [
            "🧪 Reloaded: Train shape (538, 11), Test shape (381, 11)\n"
          ]
        }
      ]
    },
    {
      "cell_type": "code",
      "source": [
        "valid_indices = []\n",
        "\n",
        "for i in range(len(train_df)):\n",
        "    try:\n",
        "        spec = np.load(train_df.loc[i, 'Spectrogram_Array'])\n",
        "        if spec.shape[0] == 1025:  # Expected freq bins\n",
        "            valid_indices.append(i)\n",
        "    except:\n",
        "        continue\n",
        "\n",
        "train_df = train_df.loc[valid_indices].reset_index(drop=True)\n",
        "print(f\"✅ Filtered train set: {len(train_df)} samples\")\n",
        "\n",
        "valid_indices = []\n",
        "for i in range(len(test_df)):\n",
        "    try:\n",
        "        spec = np.load(test_df.loc[i, 'Spectrogram_Array'])\n",
        "        if spec.shape[0] == 1025:\n",
        "            valid_indices.append(i)\n",
        "    except:\n",
        "        continue\n",
        "\n",
        "test_df = test_df.loc[valid_indices].reset_index(drop=True)\n",
        "print(f\"✅ Filtered test set: {len(test_df)} samples\")\n"
      ],
      "metadata": {
        "colab": {
          "base_uri": "https://localhost:8080/"
        },
        "id": "bUH6sQo3Psdy",
        "outputId": "0f0ccf9a-e28a-4ca0-da0c-ba197f2ea8c0"
      },
      "execution_count": 46,
      "outputs": [
        {
          "output_type": "stream",
          "name": "stdout",
          "text": [
            "✅ Filtered train set: 538 samples\n",
            "✅ Filtered test set: 381 samples\n"
          ]
        }
      ]
    },
    {
      "cell_type": "code",
      "source": [
        "# ✅ Dataset class that guarantees fixed shape [1025, 256]\n",
        "import torch\n",
        "from torch.utils.data import Dataset, DataLoader\n",
        "import numpy as np\n",
        "\n",
        "class ICBHI_1D_CNN_Dataset(Dataset):\n",
        "    def __init__(self, df_subset, max_len=256, expected_freq=1025):\n",
        "        self.data = df_subset.reset_index(drop=True)\n",
        "        self.max_len = max_len\n",
        "        self.expected_freq = expected_freq\n",
        "\n",
        "    def __len__(self):\n",
        "        return len(self.data)\n",
        "\n",
        "    def __getitem__(self, idx):\n",
        "        row = self.data.loc[idx]\n",
        "        try:\n",
        "            spectrogram = np.load(row['Spectrogram_Array'])  # [freq, time]\n",
        "        except:\n",
        "            spectrogram = np.zeros((self.expected_freq, self.max_len))\n",
        "\n",
        "        if len(spectrogram.shape) != 2:\n",
        "            spectrogram = np.zeros((self.expected_freq, self.max_len))\n",
        "\n",
        "        freq, time = spectrogram.shape\n",
        "\n",
        "        # Pad/truncate freq axis\n",
        "        if freq < self.expected_freq:\n",
        "            spectrogram = np.pad(spectrogram, ((0, self.expected_freq - freq), (0, 0)), mode='constant')\n",
        "        elif freq > self.expected_freq:\n",
        "            spectrogram = spectrogram[:self.expected_freq, :]\n",
        "\n",
        "        # Pad/truncate time axis\n",
        "        if time < self.max_len:\n",
        "            spectrogram = np.pad(spectrogram, ((0, 0), (0, self.max_len - time)), mode='constant')\n",
        "        elif time > self.max_len:\n",
        "            spectrogram = spectrogram[:, :self.max_len]\n",
        "\n",
        "        x = torch.tensor(spectrogram, dtype=torch.float32)\n",
        "        y = torch.tensor(row['EncodedLabel'], dtype=torch.long)\n",
        "        return x, y\n"
      ],
      "metadata": {
        "id": "H7sWPe_fN6kQ"
      },
      "execution_count": 67,
      "outputs": []
    },
    {
      "cell_type": "code",
      "source": [
        "# ✅ Build datasets and dataloaders\n",
        "train_ds = ICBHI_1D_CNN_Dataset(train_df, max_len=256)\n",
        "test_ds = ICBHI_1D_CNN_Dataset(test_df, max_len=256)\n",
        "\n",
        "# Quick sanity check\n",
        "x0, y0 = train_ds[0]\n",
        "print(\"🧪 Example shape:\", x0.shape)  # should be [1025, 256]\n",
        "\n",
        "train_loader = DataLoader(train_ds, batch_size=32, shuffle=True)\n",
        "test_loader = DataLoader(test_ds, batch_size=32)\n",
        "print(\"✅ Dataloaders ready\")\n",
        "\n",
        "\n"
      ],
      "metadata": {
        "colab": {
          "base_uri": "https://localhost:8080/"
        },
        "id": "XxnE2hZqN-m2",
        "outputId": "5737f6d2-1b37-4175-c6cd-96460e526f4f"
      },
      "execution_count": 68,
      "outputs": [
        {
          "output_type": "stream",
          "name": "stdout",
          "text": [
            "🧪 Example shape: torch.Size([1025, 256])\n",
            "✅ Dataloaders ready\n"
          ]
        }
      ]
    },
    {
      "cell_type": "code",
      "source": [
        "# ✅ Define ResNet1D model\n",
        "import torch.nn as nn\n",
        "import torch.nn.functional as F\n",
        "\n",
        "class ResidualBlock1D(nn.Module):\n",
        "    def __init__(self, in_channels, out_channels, downsample=False):\n",
        "        super().__init__()\n",
        "        stride = 2 if downsample else 1\n",
        "        self.conv1 = nn.Conv1d(in_channels, out_channels, 3, stride=stride, padding=1)\n",
        "        self.bn1 = nn.BatchNorm1d(out_channels)\n",
        "        self.conv2 = nn.Conv1d(out_channels, out_channels, 3, padding=1)\n",
        "        self.bn2 = nn.BatchNorm1d(out_channels)\n",
        "        self.downsample = nn.Sequential(\n",
        "            nn.Conv1d(in_channels, out_channels, 1, stride=stride),\n",
        "            nn.BatchNorm1d(out_channels)\n",
        "        ) if downsample or in_channels != out_channels else nn.Identity()\n",
        "\n",
        "    def forward(self, x):\n",
        "        identity = self.downsample(x)\n",
        "        out = F.relu(self.bn1(self.conv1(x)))\n",
        "        out = self.bn2(self.conv2(out))\n",
        "        return F.relu(out + identity)\n",
        "\n",
        "class ResNet1D(nn.Module):\n",
        "    def __init__(self, in_channels, num_classes):\n",
        "        super().__init__()\n",
        "        self.layer1 = ResidualBlock1D(in_channels, 32)\n",
        "        self.layer2 = ResidualBlock1D(32, 64, downsample=True)\n",
        "        self.layer3 = ResidualBlock1D(64, 128, downsample=True)\n",
        "        self.pool = nn.AdaptiveAvgPool1d(1)\n",
        "        self.fc = nn.Linear(128, num_classes)\n",
        "\n",
        "    def forward(self, x):\n",
        "        x = self.layer1(x)\n",
        "        x = self.layer2(x)\n",
        "        x = self.layer3(x)\n",
        "        x = self.pool(x).squeeze(-1)\n",
        "        return self.fc(x)\n"
      ],
      "metadata": {
        "id": "CHrIjkdgS_hE"
      },
      "execution_count": 69,
      "outputs": []
    },
    {
      "cell_type": "code",
      "source": [
        "# ✅ Train the model\n",
        "from sklearn.metrics import accuracy_score\n",
        "\n",
        "device = torch.device(\"cuda\" if torch.cuda.is_available() else \"cpu\")\n",
        "num_classes = len(train_df['EncodedLabel'].unique())\n",
        "input_channels = x0.shape[0]\n",
        "\n",
        "model = ResNet1D(input_channels, num_classes).to(device)\n",
        "criterion = nn.CrossEntropyLoss()\n",
        "optimizer = torch.optim.Adam(model.parameters(), lr=1e-3)\n",
        "\n",
        "for epoch in range(10):\n",
        "    model.train()\n",
        "    total_loss = 0\n",
        "    for X, y in train_loader:\n",
        "        X, y = X.to(device), y.to(device)\n",
        "        optimizer.zero_grad()\n",
        "        logits = model(X)\n",
        "        loss = criterion(logits, y)\n",
        "        loss.backward()\n",
        "        optimizer.step()\n",
        "        total_loss += loss.item()\n",
        "\n",
        "    model.eval()\n",
        "    all_preds, all_labels = [], []\n",
        "    with torch.no_grad():\n",
        "        for X, y in test_loader:\n",
        "            X, y = X.to(device), y.to(device)\n",
        "            preds = torch.argmax(model(X), dim=1)\n",
        "            all_preds.extend(preds.cpu().numpy())\n",
        "            all_labels.extend(y.cpu().numpy())\n",
        "\n",
        "    acc = accuracy_score(all_labels, all_preds)\n",
        "    print(f\"📚 Epoch {epoch+1} | Loss: {total_loss:.4f} | Accuracy: {acc:.4f}\")\n"
      ],
      "metadata": {
        "colab": {
          "base_uri": "https://localhost:8080/"
        },
        "id": "p4MrnfS-TDIg",
        "outputId": "bab970d8-5a5c-4235-ab73-9a1067299a10"
      },
      "execution_count": 70,
      "outputs": [
        {
          "output_type": "stream",
          "name": "stdout",
          "text": [
            "📚 Epoch 1 | Loss: 16.7184 | Accuracy: 0.9160\n",
            "📚 Epoch 2 | Loss: 8.6572 | Accuracy: 0.9160\n",
            "📚 Epoch 3 | Loss: 7.1651 | Accuracy: 0.9213\n",
            "📚 Epoch 4 | Loss: 6.3591 | Accuracy: 0.9265\n",
            "📚 Epoch 5 | Loss: 6.3278 | Accuracy: 0.9160\n",
            "📚 Epoch 6 | Loss: 6.2688 | Accuracy: 0.8661\n",
            "📚 Epoch 7 | Loss: 5.9245 | Accuracy: 0.7822\n",
            "📚 Epoch 8 | Loss: 5.2613 | Accuracy: 0.9134\n",
            "📚 Epoch 9 | Loss: 5.1681 | Accuracy: 0.9291\n",
            "📚 Epoch 10 | Loss: 4.9167 | Accuracy: 0.9239\n"
          ]
        }
      ]
    },
    {
      "cell_type": "code",
      "source": [
        "torch.save(model.state_dict(), \"resnet1d_icbhi.pth\")\n"
      ],
      "metadata": {
        "id": "e0W9VN2bTk8K"
      },
      "execution_count": 71,
      "outputs": []
    },
    {
      "cell_type": "code",
      "source": [
        "from sklearn.metrics import confusion_matrix, ConfusionMatrixDisplay\n",
        "import matplotlib.pyplot as plt\n",
        "\n",
        "cm = confusion_matrix(all_labels, all_preds)\n",
        "disp = ConfusionMatrixDisplay(confusion_matrix=cm)\n",
        "disp.plot(xticks_rotation=45, cmap='Blues')\n",
        "plt.title(\"Confusion Matrix\")\n",
        "plt.grid(False)\n",
        "plt.show()\n",
        "\n"
      ],
      "metadata": {
        "colab": {
          "base_uri": "https://localhost:8080/",
          "height": 474
        },
        "id": "zNjfmDjHTnw-",
        "outputId": "f8568f54-4786-4501-ee19-a29db55b2e96"
      },
      "execution_count": 73,
      "outputs": [
        {
          "output_type": "display_data",
          "data": {
            "text/plain": [
              "<Figure size 640x480 with 2 Axes>"
            ],
            "image/png": "[encoded data removed]"
          },
          "metadata": {}
        }
      ]
    },
    {
      "cell_type": "code",
      "source": [
        "from sklearn.model_selection import StratifiedKFold\n",
        "\n",
        "skf = StratifiedKFold(n_splits=5, shuffle=True, random_state=42)\n",
        "X = train_df['Spectrogram_Array'].values\n",
        "y = train_df['EncodedLabel'].values\n",
        "\n",
        "for fold, (train_idx, val_idx) in enumerate(skf.split(X, y)):\n",
        "    print(f\"\\n🌀 Fold {fold+1}\")\n",
        "\n",
        "    fold_train_df = train_df.iloc[train_idx].reset_index(drop=True)\n",
        "    fold_val_df = train_df.iloc[val_idx].reset_index(drop=True)\n",
        "\n",
        "    train_ds = ICBHI_1D_CNN_Dataset(fold_train_df)\n",
        "    val_ds = ICBHI_1D_CNN_Dataset(fold_val_df)\n",
        "\n",
        "    train_loader = DataLoader(train_ds, batch_size=32, shuffle=True)\n",
        "    val_loader = DataLoader(val_ds, batch_size=32)\n",
        "\n",
        "    # 🔁 Train your model on fold_train_df and validate on val_loader...\n"
      ],
      "metadata": {
        "colab": {
          "base_uri": "https://localhost:8080/"
        },
        "id": "FzNhYs23Uecs",
        "outputId": "57eadccb-5c29-4086-db3c-3ad81748659f"
      },
      "execution_count": 75,
      "outputs": [
        {
          "output_type": "stream",
          "name": "stdout",
          "text": [
            "\n",
            "🌀 Fold 1\n",
            "\n",
            "🌀 Fold 2\n",
            "\n",
            "🌀 Fold 3\n",
            "\n",
            "🌀 Fold 4\n",
            "\n",
            "🌀 Fold 5\n"
          ]
        },
        {
          "output_type": "stream",
          "name": "stderr",
          "text": [
            "/usr/local/lib/python3.11/dist-packages/sklearn/model_selection/_split.py:805: UserWarning: The least populated class in y has only 1 members, which is less than n_splits=5.\n",
            "  warnings.warn(\n"
          ]
        }
      ]
    },
    {
      "cell_type": "code",
      "source": [
        "# Get input\n",
        "input_tensor, label = train_ds[0]\n",
        "input_tensor = input_tensor.unsqueeze(0).to(device)\n",
        "\n",
        "# Grad-CAM++ setup\n",
        "from torchcam.methods import GradCAMpp\n",
        "cam_extractor = GradCAMpp(model, target_layer=\"layer3\")\n",
        "\n",
        "# Forward pass (❌ no torch.no_grad())\n",
        "model.eval()\n",
        "output = model(input_tensor)\n",
        "\n",
        "# Get activation map\n",
        "predicted_class = output.argmax(dim=1).item()\n",
        "activation_map = cam_extractor(predicted_class, output)[0].cpu()\n",
        "\n",
        "# Plot\n",
        "import matplotlib.pyplot as plt\n",
        "plt.figure(figsize=(12, 4))\n",
        "plt.imshow(activation_map, aspect='auto', origin='lower', cmap='hot')\n",
        "plt.colorbar(label=\"Activation Strength\")\n",
        "plt.title(f\"Grad-CAM++ - Predicted Class: {predicted_class}\")\n",
        "plt.xlabel(\"Time Axis\")\n",
        "plt.ylabel(\"Frequency Channels\")\n",
        "plt.tight_layout()\n",
        "plt.show()\n"
      ],
      "metadata": {
        "colab": {
          "base_uri": "https://localhost:8080/",
          "height": 407
        },
        "id": "fgcv5oTPUmfR",
        "outputId": "6383c9cf-23bd-4354-f9b3-6d52ce105564"
      },
      "execution_count": 79,
      "outputs": [
        {
          "output_type": "display_data",
          "data": {
            "text/plain": [
              "<Figure size 1200x400 with 2 Axes>"
            ],
            "image/png": "[encoded data removed]"
          },
          "metadata": {}
        }
      ]
    },
    {
      "cell_type": "code",
      "source": [
        "import os\n",
        "import numpy as np\n",
        "import matplotlib.pyplot as plt\n",
        "import torch\n",
        "from torchcam.methods import GradCAMpp\n",
        "\n",
        "# 📁 Create directory to save Grad-CAM++ visual outputs\n",
        "save_dir = \"gradcam_outputs\"\n",
        "os.makedirs(save_dir, exist_ok=True)\n",
        "\n",
        "# 🎯 Set up Grad-CAM++ extractor on the final conv layer\n",
        "cam_extractor = GradCAMpp(model, target_layer=\"layer3\")\n",
        "model.eval()\n",
        "\n",
        "# 🔁 Loop over first N samples from the dataset\n",
        "N = 5  # Change this to however many samples you want\n",
        "for idx in range(N):\n",
        "    # Load one sample\n",
        "    input_tensor, label = train_ds[idx]\n",
        "    input_tensor = input_tensor.unsqueeze(0).to(device)  # Add batch dim\n",
        "\n",
        "    # Forward pass\n",
        "    output = model(input_tensor)\n",
        "\n",
        "    # Predicted class\n",
        "    predicted_class = output.argmax(dim=1).item()\n",
        "\n",
        "    # Get activation map\n",
        "    activation_map = cam_extractor(predicted_class, output)[0].cpu().numpy()\n",
        "\n",
        "    # Original spectrogram\n",
        "    original_spec = input_tensor.squeeze(0).cpu().numpy()\n",
        "\n",
        "    # Normalize activation map\n",
        "    act_resized = np.interp(activation_map, (activation_map.min(), activation_map.max()), (0, 1))\n",
        "\n",
        "    # 🔍 Plot: Overlay CAM on spectrogram\n",
        "    plt.figure(figsize=(12, 4))\n",
        "    plt.imshow(original_spec, aspect='auto', origin='lower', cmap='gray')\n",
        "    plt.imshow(act_resized, aspect='auto', origin='lower', cmap='hot', alpha=0.4)\n",
        "    plt.colorbar(label=\"Activation Strength\")\n",
        "    plt.title(f\"Grad-CAM++ Overlay | Pred: {predicted_class} | True: {label}\")\n",
        "    plt.xlabel(\"Time Axis\")\n",
        "    plt.ylabel(\"Frequency Channels\")\n",
        "    plt.tight_layout()\n",
        "\n",
        "    # 💾 Save the figure\n",
        "    out_path = os.path.join(save_dir, f\"gradcam_{idx}_pred{predicted_class}_true{label}.png\")\n",
        "    plt.savefig(out_path)\n",
        "    plt.close()\n",
        "\n",
        "print(f\"✅ Saved Grad-CAM++ overlays for {N} samples to: {save_dir}\")\n"
      ],
      "metadata": {
        "colab": {
          "base_uri": "https://localhost:8080/"
        },
        "id": "4D4cGGXiXLBA",
        "outputId": "a989a084-45df-41ee-c355-38cd5b7a90ab"
      },
      "execution_count": 80,
      "outputs": [
        {
          "output_type": "stream",
          "name": "stdout",
          "text": [
            "✅ Saved Grad-CAM++ overlays for 5 samples to: gradcam_outputs\n"
          ]
        }
      ]
    },
    {
      "cell_type": "code",
      "source": [
        "import os\n",
        "import numpy as np\n",
        "import matplotlib.pyplot as plt\n",
        "import torch\n",
        "from torchcam.methods import GradCAMpp\n",
        "from PIL import Image\n",
        "\n",
        "# 🎯 Grad-CAM++ setup\n",
        "cam_extractor = GradCAMpp(model, target_layer=\"layer3\")\n",
        "model.eval()\n",
        "\n",
        "# 📁 Output folders\n",
        "correct_dir = \"gradcam_correct\"\n",
        "incorrect_dir = \"gradcam_incorrect\"\n",
        "os.makedirs(correct_dir, exist_ok=True)\n",
        "os.makedirs(incorrect_dir, exist_ok=True)\n",
        "\n",
        "# 🔁 Loop through training set\n",
        "N = 20  # You can increase this\n",
        "for idx in range(N):\n",
        "    # Load spectrogram from Dataset\n",
        "    input_tensor, label = train_ds[idx]\n",
        "    input_tensor = input_tensor.unsqueeze(0).to(device)\n",
        "\n",
        "    # Predict and extract attention\n",
        "    output = model(input_tensor)\n",
        "    pred_class = output.argmax(dim=1).item()\n",
        "    activation_map = cam_extractor(pred_class, output)[0].cpu().numpy()\n",
        "\n",
        "    # Locate corresponding PNG file\n",
        "    npy_path = train_df.loc[idx, 'Spectrogram_Array']\n",
        "    png_path = npy_path.replace(\".npy\", \".png\")\n",
        "    if not os.path.exists(png_path):\n",
        "        print(f\"❌ Missing PNG: {png_path}\")\n",
        "        continue\n",
        "\n",
        "    # Load image and overlay attention\n",
        "    spec_img = Image.open(png_path).convert(\"RGB\")\n",
        "    spec_array = np.array(spec_img)\n",
        "\n",
        "    # Normalize and resize activation map\n",
        "    activation_map_resized = np.interp(activation_map, (activation_map.min(), activation_map.max()), (0, 1))\n",
        "    heatmap = plt.cm.jet(activation_map_resized)[:, :, :3]  # RGB colormap\n",
        "    heatmap_img = Image.fromarray(np.uint8(heatmap * 255)).resize(spec_img.size)\n",
        "\n",
        "    # Blend with original\n",
        "    overlay = Image.blend(spec_img, heatmap_img, alpha=0.5)\n",
        "\n",
        "    # 📸 Side-by-side comparison\n",
        "    fig, axs = plt.subplots(1, 2, figsize=(14, 5))\n",
        "    axs[0].imshow(spec_img)\n",
        "    axs[0].set_title(\"Original Spectrogram\")\n",
        "    axs[0].axis(\"off\")\n",
        "\n",
        "    axs[1].imshow(overlay)\n",
        "    axs[1].set_title(f\"Grad-CAM++ Overlay | Pred: {pred_class} | True: {label}\")\n",
        "    axs[1].axis(\"off\")\n",
        "\n",
        "    # Save to correct/incorrect folders\n",
        "    plt.tight_layout()\n",
        "    folder = correct_dir if pred_class == label else incorrect_dir\n",
        "    out_path = os.path.join(folder, f\"cam_{idx}_pred{pred_class}_true{label}.png\")\n",
        "    plt.savefig(out_path)\n",
        "    plt.close()\n",
        "\n",
        "print(f\"✅ All Grad-CAM++ overlays saved to '{correct_dir}' and '{incorrect_dir}'\")\n",
        "# Google Drive path (change this to any folder you want inside your Drive)\n",
        "base_dir = \"/content/drive/MyDrive/ICBHI_GradCAM\"\n",
        "\n",
        "correct_dir = os.path.join(base_dir, \"gradcam_correct\")\n",
        "incorrect_dir = os.path.join(base_dir, \"gradcam_incorrect\")\n",
        "\n",
        "os.makedirs(correct_dir, exist_ok=True)\n",
        "os.makedirs(incorrect_dir, exist_ok=True)\n",
        "!zip -r /content/drive/MyDrive/ICBHI_GradCAM_correct.zip /content/drive/MyDrive/ICBHI_GradCAM/gradcam_correct\n",
        "!zip -r /content/drive/MyDrive/ICBHI_GradCAM_incorrect.zip /content/drive/MyDrive/ICBHI_GradCAM/gradcam_incorrect\n"
      ],
      "metadata": {
        "colab": {
          "base_uri": "https://localhost:8080/"
        },
        "id": "rSbFyks4aOHY",
        "outputId": "5f437afc-00c1-4855-dfaf-7ec28559e293"
      },
      "execution_count": 82,
      "outputs": [
        {
          "output_type": "stream",
          "name": "stdout",
          "text": [
            "✅ All Grad-CAM++ overlays saved to 'gradcam_correct' and 'gradcam_incorrect'\n",
            "  adding: content/drive/MyDrive/ICBHI_GradCAM/gradcam_correct/ (stored 0%)\n",
            "  adding: content/drive/MyDrive/ICBHI_GradCAM/gradcam_incorrect/ (stored 0%)\n"
          ]
        }
      ]
    }
  ]
}